{
 "cells": [
  {
   "cell_type": "markdown",
   "metadata": {
    "collapsed": true
   },
   "source": [
    "# Exploring German eBay Car Sales Data"
   ]
  },
  {
   "cell_type": "markdown",
   "metadata": {},
   "source": [
    "In this guided project, I'll work with a dataset of used cars from the classifieds section of the German eBay website. The data is downloaded from Kaggle"
   ]
  },
  {
   "cell_type": "markdown",
   "metadata": {},
   "source": [
    "### Load Libraries"
   ]
  },
  {
   "cell_type": "code",
   "execution_count": 2,
   "metadata": {
    "collapsed": false
   },
   "outputs": [],
   "source": [
    "import pandas as pd\n",
    "import numpy as np"
   ]
  },
  {
   "cell_type": "markdown",
   "metadata": {},
   "source": [
    "### Load data"
   ]
  },
  {
   "cell_type": "code",
   "execution_count": 3,
   "metadata": {
    "collapsed": false
   },
   "outputs": [],
   "source": [
    "autos = pd.read_csv(\"autos.csv\", encoding = \"Latin-1\")"
   ]
  },
  {
   "cell_type": "code",
   "execution_count": 9,
   "metadata": {
    "collapsed": false
   },
   "outputs": [
    {
     "name": "stdout",
     "output_type": "stream",
     "text": [
      "<class 'pandas.core.frame.DataFrame'>\n",
      "RangeIndex: 50000 entries, 0 to 49999\n",
      "Data columns (total 20 columns):\n",
      "dateCrawled            50000 non-null object\n",
      "name                   50000 non-null object\n",
      "seller                 50000 non-null object\n",
      "offerType              50000 non-null object\n",
      "price                  50000 non-null object\n",
      "abtest                 50000 non-null object\n",
      "vehicleType            44905 non-null object\n",
      "yearOfRegistration     50000 non-null int64\n",
      "gearbox                47320 non-null object\n",
      "powerPS                50000 non-null int64\n",
      "model                  47242 non-null object\n",
      "odometer               50000 non-null object\n",
      "monthOfRegistration    50000 non-null int64\n",
      "fuelType               45518 non-null object\n",
      "brand                  50000 non-null object\n",
      "notRepairedDamage      40171 non-null object\n",
      "dateCreated            50000 non-null object\n",
      "nrOfPictures           50000 non-null int64\n",
      "postalCode             50000 non-null int64\n",
      "lastSeen               50000 non-null object\n",
      "dtypes: int64(5), object(15)\n",
      "memory usage: 7.6+ MB\n"
     ]
    }
   ],
   "source": [
    "autos.info()"
   ]
  },
  {
   "cell_type": "markdown",
   "metadata": {},
   "source": [
    "### Exploring Data"
   ]
  },
  {
   "cell_type": "markdown",
   "metadata": {},
   "source": [
    "The data contains 50,000 rows and 20 columns and offers information about the virtual transaction and the car. A sample of the first 5 rows of the data is shown below"
   ]
  },
  {
   "cell_type": "code",
   "execution_count": 10,
   "metadata": {
    "collapsed": false
   },
   "outputs": [
    {
     "data": {
      "text/html": [
       "<div>\n",
       "<style scoped>\n",
       "    .dataframe tbody tr th:only-of-type {\n",
       "        vertical-align: middle;\n",
       "    }\n",
       "\n",
       "    .dataframe tbody tr th {\n",
       "        vertical-align: top;\n",
       "    }\n",
       "\n",
       "    .dataframe thead th {\n",
       "        text-align: right;\n",
       "    }\n",
       "</style>\n",
       "<table border=\"1\" class=\"dataframe\">\n",
       "  <thead>\n",
       "    <tr style=\"text-align: right;\">\n",
       "      <th></th>\n",
       "      <th>dateCrawled</th>\n",
       "      <th>name</th>\n",
       "      <th>seller</th>\n",
       "      <th>offerType</th>\n",
       "      <th>price</th>\n",
       "      <th>abtest</th>\n",
       "      <th>vehicleType</th>\n",
       "      <th>yearOfRegistration</th>\n",
       "      <th>gearbox</th>\n",
       "      <th>powerPS</th>\n",
       "      <th>model</th>\n",
       "      <th>odometer</th>\n",
       "      <th>monthOfRegistration</th>\n",
       "      <th>fuelType</th>\n",
       "      <th>brand</th>\n",
       "      <th>notRepairedDamage</th>\n",
       "      <th>dateCreated</th>\n",
       "      <th>nrOfPictures</th>\n",
       "      <th>postalCode</th>\n",
       "      <th>lastSeen</th>\n",
       "    </tr>\n",
       "  </thead>\n",
       "  <tbody>\n",
       "    <tr>\n",
       "      <th>0</th>\n",
       "      <td>2016-03-26 17:47:46</td>\n",
       "      <td>Peugeot_807_160_NAVTECH_ON_BOARD</td>\n",
       "      <td>privat</td>\n",
       "      <td>Angebot</td>\n",
       "      <td>$5,000</td>\n",
       "      <td>control</td>\n",
       "      <td>bus</td>\n",
       "      <td>2004</td>\n",
       "      <td>manuell</td>\n",
       "      <td>158</td>\n",
       "      <td>andere</td>\n",
       "      <td>150,000km</td>\n",
       "      <td>3</td>\n",
       "      <td>lpg</td>\n",
       "      <td>peugeot</td>\n",
       "      <td>nein</td>\n",
       "      <td>2016-03-26 00:00:00</td>\n",
       "      <td>0</td>\n",
       "      <td>79588</td>\n",
       "      <td>2016-04-06 06:45:54</td>\n",
       "    </tr>\n",
       "    <tr>\n",
       "      <th>1</th>\n",
       "      <td>2016-04-04 13:38:56</td>\n",
       "      <td>BMW_740i_4_4_Liter_HAMANN_UMBAU_Mega_Optik</td>\n",
       "      <td>privat</td>\n",
       "      <td>Angebot</td>\n",
       "      <td>$8,500</td>\n",
       "      <td>control</td>\n",
       "      <td>limousine</td>\n",
       "      <td>1997</td>\n",
       "      <td>automatik</td>\n",
       "      <td>286</td>\n",
       "      <td>7er</td>\n",
       "      <td>150,000km</td>\n",
       "      <td>6</td>\n",
       "      <td>benzin</td>\n",
       "      <td>bmw</td>\n",
       "      <td>nein</td>\n",
       "      <td>2016-04-04 00:00:00</td>\n",
       "      <td>0</td>\n",
       "      <td>71034</td>\n",
       "      <td>2016-04-06 14:45:08</td>\n",
       "    </tr>\n",
       "    <tr>\n",
       "      <th>2</th>\n",
       "      <td>2016-03-26 18:57:24</td>\n",
       "      <td>Volkswagen_Golf_1.6_United</td>\n",
       "      <td>privat</td>\n",
       "      <td>Angebot</td>\n",
       "      <td>$8,990</td>\n",
       "      <td>test</td>\n",
       "      <td>limousine</td>\n",
       "      <td>2009</td>\n",
       "      <td>manuell</td>\n",
       "      <td>102</td>\n",
       "      <td>golf</td>\n",
       "      <td>70,000km</td>\n",
       "      <td>7</td>\n",
       "      <td>benzin</td>\n",
       "      <td>volkswagen</td>\n",
       "      <td>nein</td>\n",
       "      <td>2016-03-26 00:00:00</td>\n",
       "      <td>0</td>\n",
       "      <td>35394</td>\n",
       "      <td>2016-04-06 20:15:37</td>\n",
       "    </tr>\n",
       "    <tr>\n",
       "      <th>3</th>\n",
       "      <td>2016-03-12 16:58:10</td>\n",
       "      <td>Smart_smart_fortwo_coupe_softouch/F1/Klima/Pan...</td>\n",
       "      <td>privat</td>\n",
       "      <td>Angebot</td>\n",
       "      <td>$4,350</td>\n",
       "      <td>control</td>\n",
       "      <td>kleinwagen</td>\n",
       "      <td>2007</td>\n",
       "      <td>automatik</td>\n",
       "      <td>71</td>\n",
       "      <td>fortwo</td>\n",
       "      <td>70,000km</td>\n",
       "      <td>6</td>\n",
       "      <td>benzin</td>\n",
       "      <td>smart</td>\n",
       "      <td>nein</td>\n",
       "      <td>2016-03-12 00:00:00</td>\n",
       "      <td>0</td>\n",
       "      <td>33729</td>\n",
       "      <td>2016-03-15 03:16:28</td>\n",
       "    </tr>\n",
       "    <tr>\n",
       "      <th>4</th>\n",
       "      <td>2016-04-01 14:38:50</td>\n",
       "      <td>Ford_Focus_1_6_Benzin_TÜV_neu_ist_sehr_gepfleg...</td>\n",
       "      <td>privat</td>\n",
       "      <td>Angebot</td>\n",
       "      <td>$1,350</td>\n",
       "      <td>test</td>\n",
       "      <td>kombi</td>\n",
       "      <td>2003</td>\n",
       "      <td>manuell</td>\n",
       "      <td>0</td>\n",
       "      <td>focus</td>\n",
       "      <td>150,000km</td>\n",
       "      <td>7</td>\n",
       "      <td>benzin</td>\n",
       "      <td>ford</td>\n",
       "      <td>nein</td>\n",
       "      <td>2016-04-01 00:00:00</td>\n",
       "      <td>0</td>\n",
       "      <td>39218</td>\n",
       "      <td>2016-04-01 14:38:50</td>\n",
       "    </tr>\n",
       "  </tbody>\n",
       "</table>\n",
       "</div>"
      ],
      "text/plain": [
       "           dateCrawled                                               name  \\\n",
       "0  2016-03-26 17:47:46                   Peugeot_807_160_NAVTECH_ON_BOARD   \n",
       "1  2016-04-04 13:38:56         BMW_740i_4_4_Liter_HAMANN_UMBAU_Mega_Optik   \n",
       "2  2016-03-26 18:57:24                         Volkswagen_Golf_1.6_United   \n",
       "3  2016-03-12 16:58:10  Smart_smart_fortwo_coupe_softouch/F1/Klima/Pan...   \n",
       "4  2016-04-01 14:38:50  Ford_Focus_1_6_Benzin_TÜV_neu_ist_sehr_gepfleg...   \n",
       "\n",
       "   seller offerType   price   abtest vehicleType  yearOfRegistration  \\\n",
       "0  privat   Angebot  $5,000  control         bus                2004   \n",
       "1  privat   Angebot  $8,500  control   limousine                1997   \n",
       "2  privat   Angebot  $8,990     test   limousine                2009   \n",
       "3  privat   Angebot  $4,350  control  kleinwagen                2007   \n",
       "4  privat   Angebot  $1,350     test       kombi                2003   \n",
       "\n",
       "     gearbox  powerPS   model   odometer  monthOfRegistration fuelType  \\\n",
       "0    manuell      158  andere  150,000km                    3      lpg   \n",
       "1  automatik      286     7er  150,000km                    6   benzin   \n",
       "2    manuell      102    golf   70,000km                    7   benzin   \n",
       "3  automatik       71  fortwo   70,000km                    6   benzin   \n",
       "4    manuell        0   focus  150,000km                    7   benzin   \n",
       "\n",
       "        brand notRepairedDamage          dateCreated  nrOfPictures  \\\n",
       "0     peugeot              nein  2016-03-26 00:00:00             0   \n",
       "1         bmw              nein  2016-04-04 00:00:00             0   \n",
       "2  volkswagen              nein  2016-03-26 00:00:00             0   \n",
       "3       smart              nein  2016-03-12 00:00:00             0   \n",
       "4        ford              nein  2016-04-01 00:00:00             0   \n",
       "\n",
       "   postalCode             lastSeen  \n",
       "0       79588  2016-04-06 06:45:54  \n",
       "1       71034  2016-04-06 14:45:08  \n",
       "2       35394  2016-04-06 20:15:37  \n",
       "3       33729  2016-03-15 03:16:28  \n",
       "4       39218  2016-04-01 14:38:50  "
      ]
     },
     "execution_count": 10,
     "metadata": {},
     "output_type": "execute_result"
    }
   ],
   "source": [
    "autos.head(5)"
   ]
  },
  {
   "cell_type": "code",
   "execution_count": 61,
   "metadata": {
    "collapsed": false
   },
   "outputs": [
    {
     "data": {
      "text/html": [
       "<div>\n",
       "<style scoped>\n",
       "    .dataframe tbody tr th:only-of-type {\n",
       "        vertical-align: middle;\n",
       "    }\n",
       "\n",
       "    .dataframe tbody tr th {\n",
       "        vertical-align: top;\n",
       "    }\n",
       "\n",
       "    .dataframe thead th {\n",
       "        text-align: right;\n",
       "    }\n",
       "</style>\n",
       "<table border=\"1\" class=\"dataframe\">\n",
       "  <thead>\n",
       "    <tr style=\"text-align: right;\">\n",
       "      <th></th>\n",
       "      <th>date_crawled</th>\n",
       "      <th>name</th>\n",
       "      <th>seller</th>\n",
       "      <th>offer_type</th>\n",
       "      <th>price</th>\n",
       "      <th>abtest</th>\n",
       "      <th>vehicle_type</th>\n",
       "      <th>registration_year</th>\n",
       "      <th>gearbox</th>\n",
       "      <th>powerPS</th>\n",
       "      <th>...</th>\n",
       "      <th>odometer</th>\n",
       "      <th>registration_month</th>\n",
       "      <th>fuel_type</th>\n",
       "      <th>brand</th>\n",
       "      <th>unrepaired_damage</th>\n",
       "      <th>ad_created</th>\n",
       "      <th>nr_of_pictures</th>\n",
       "      <th>postal_code</th>\n",
       "      <th>last_seen</th>\n",
       "      <th>odometer_km</th>\n",
       "    </tr>\n",
       "  </thead>\n",
       "  <tbody>\n",
       "    <tr>\n",
       "      <th>count</th>\n",
       "      <td>38264</td>\n",
       "      <td>38264</td>\n",
       "      <td>38264</td>\n",
       "      <td>38264</td>\n",
       "      <td>38264.000000</td>\n",
       "      <td>38264</td>\n",
       "      <td>35696</td>\n",
       "      <td>38264.000000</td>\n",
       "      <td>36402</td>\n",
       "      <td>38264.000000</td>\n",
       "      <td>...</td>\n",
       "      <td>38264</td>\n",
       "      <td>38264.000000</td>\n",
       "      <td>35201</td>\n",
       "      <td>38264</td>\n",
       "      <td>30552</td>\n",
       "      <td>38264</td>\n",
       "      <td>38264.0</td>\n",
       "      <td>38264.000000</td>\n",
       "      <td>38264</td>\n",
       "      <td>38264.000000</td>\n",
       "    </tr>\n",
       "    <tr>\n",
       "      <th>unique</th>\n",
       "      <td>37218</td>\n",
       "      <td>29616</td>\n",
       "      <td>2</td>\n",
       "      <td>2</td>\n",
       "      <td>NaN</td>\n",
       "      <td>2</td>\n",
       "      <td>8</td>\n",
       "      <td>NaN</td>\n",
       "      <td>2</td>\n",
       "      <td>NaN</td>\n",
       "      <td>...</td>\n",
       "      <td>4</td>\n",
       "      <td>NaN</td>\n",
       "      <td>7</td>\n",
       "      <td>40</td>\n",
       "      <td>2</td>\n",
       "      <td>66</td>\n",
       "      <td>NaN</td>\n",
       "      <td>NaN</td>\n",
       "      <td>32196</td>\n",
       "      <td>NaN</td>\n",
       "    </tr>\n",
       "    <tr>\n",
       "      <th>top</th>\n",
       "      <td>2016-03-23 18:39:34</td>\n",
       "      <td>BMW_316i</td>\n",
       "      <td>privat</td>\n",
       "      <td>Angebot</td>\n",
       "      <td>NaN</td>\n",
       "      <td>test</td>\n",
       "      <td>limousine</td>\n",
       "      <td>NaN</td>\n",
       "      <td>manuell</td>\n",
       "      <td>NaN</td>\n",
       "      <td>...</td>\n",
       "      <td>150,000km</td>\n",
       "      <td>NaN</td>\n",
       "      <td>benzin</td>\n",
       "      <td>volkswagen</td>\n",
       "      <td>nein</td>\n",
       "      <td>2016-04-03 00:00:00</td>\n",
       "      <td>NaN</td>\n",
       "      <td>NaN</td>\n",
       "      <td>2016-04-07 06:17:27</td>\n",
       "      <td>NaN</td>\n",
       "    </tr>\n",
       "    <tr>\n",
       "      <th>freq</th>\n",
       "      <td>3</td>\n",
       "      <td>73</td>\n",
       "      <td>38263</td>\n",
       "      <td>38263</td>\n",
       "      <td>NaN</td>\n",
       "      <td>19702</td>\n",
       "      <td>10532</td>\n",
       "      <td>NaN</td>\n",
       "      <td>29450</td>\n",
       "      <td>NaN</td>\n",
       "      <td>...</td>\n",
       "      <td>30306</td>\n",
       "      <td>NaN</td>\n",
       "      <td>23043</td>\n",
       "      <td>8457</td>\n",
       "      <td>26219</td>\n",
       "      <td>1484</td>\n",
       "      <td>NaN</td>\n",
       "      <td>NaN</td>\n",
       "      <td>8</td>\n",
       "      <td>NaN</td>\n",
       "    </tr>\n",
       "    <tr>\n",
       "      <th>mean</th>\n",
       "      <td>NaN</td>\n",
       "      <td>NaN</td>\n",
       "      <td>NaN</td>\n",
       "      <td>NaN</td>\n",
       "      <td>3593.137388</td>\n",
       "      <td>NaN</td>\n",
       "      <td>NaN</td>\n",
       "      <td>2001.845050</td>\n",
       "      <td>NaN</td>\n",
       "      <td>110.672042</td>\n",
       "      <td>...</td>\n",
       "      <td>NaN</td>\n",
       "      <td>5.744616</td>\n",
       "      <td>NaN</td>\n",
       "      <td>NaN</td>\n",
       "      <td>NaN</td>\n",
       "      <td>NaN</td>\n",
       "      <td>0.0</td>\n",
       "      <td>50529.217019</td>\n",
       "      <td>NaN</td>\n",
       "      <td>142240.487142</td>\n",
       "    </tr>\n",
       "    <tr>\n",
       "      <th>std</th>\n",
       "      <td>NaN</td>\n",
       "      <td>NaN</td>\n",
       "      <td>NaN</td>\n",
       "      <td>NaN</td>\n",
       "      <td>3558.712455</td>\n",
       "      <td>NaN</td>\n",
       "      <td>NaN</td>\n",
       "      <td>6.103401</td>\n",
       "      <td>NaN</td>\n",
       "      <td>179.441617</td>\n",
       "      <td>...</td>\n",
       "      <td>NaN</td>\n",
       "      <td>3.724984</td>\n",
       "      <td>NaN</td>\n",
       "      <td>NaN</td>\n",
       "      <td>NaN</td>\n",
       "      <td>NaN</td>\n",
       "      <td>0.0</td>\n",
       "      <td>25631.569680</td>\n",
       "      <td>NaN</td>\n",
       "      <td>16590.527925</td>\n",
       "    </tr>\n",
       "    <tr>\n",
       "      <th>min</th>\n",
       "      <td>NaN</td>\n",
       "      <td>NaN</td>\n",
       "      <td>NaN</td>\n",
       "      <td>NaN</td>\n",
       "      <td>0.000000</td>\n",
       "      <td>NaN</td>\n",
       "      <td>NaN</td>\n",
       "      <td>1910.000000</td>\n",
       "      <td>NaN</td>\n",
       "      <td>0.000000</td>\n",
       "      <td>...</td>\n",
       "      <td>NaN</td>\n",
       "      <td>0.000000</td>\n",
       "      <td>NaN</td>\n",
       "      <td>NaN</td>\n",
       "      <td>NaN</td>\n",
       "      <td>NaN</td>\n",
       "      <td>0.0</td>\n",
       "      <td>1067.000000</td>\n",
       "      <td>NaN</td>\n",
       "      <td>90000.000000</td>\n",
       "    </tr>\n",
       "    <tr>\n",
       "      <th>25%</th>\n",
       "      <td>NaN</td>\n",
       "      <td>NaN</td>\n",
       "      <td>NaN</td>\n",
       "      <td>NaN</td>\n",
       "      <td>999.000000</td>\n",
       "      <td>NaN</td>\n",
       "      <td>NaN</td>\n",
       "      <td>1998.000000</td>\n",
       "      <td>NaN</td>\n",
       "      <td>69.000000</td>\n",
       "      <td>...</td>\n",
       "      <td>NaN</td>\n",
       "      <td>3.000000</td>\n",
       "      <td>NaN</td>\n",
       "      <td>NaN</td>\n",
       "      <td>NaN</td>\n",
       "      <td>NaN</td>\n",
       "      <td>0.0</td>\n",
       "      <td>30165.000000</td>\n",
       "      <td>NaN</td>\n",
       "      <td>150000.000000</td>\n",
       "    </tr>\n",
       "    <tr>\n",
       "      <th>50%</th>\n",
       "      <td>NaN</td>\n",
       "      <td>NaN</td>\n",
       "      <td>NaN</td>\n",
       "      <td>NaN</td>\n",
       "      <td>2300.000000</td>\n",
       "      <td>NaN</td>\n",
       "      <td>NaN</td>\n",
       "      <td>2002.000000</td>\n",
       "      <td>NaN</td>\n",
       "      <td>105.000000</td>\n",
       "      <td>...</td>\n",
       "      <td>NaN</td>\n",
       "      <td>6.000000</td>\n",
       "      <td>NaN</td>\n",
       "      <td>NaN</td>\n",
       "      <td>NaN</td>\n",
       "      <td>NaN</td>\n",
       "      <td>0.0</td>\n",
       "      <td>49201.000000</td>\n",
       "      <td>NaN</td>\n",
       "      <td>150000.000000</td>\n",
       "    </tr>\n",
       "    <tr>\n",
       "      <th>75%</th>\n",
       "      <td>NaN</td>\n",
       "      <td>NaN</td>\n",
       "      <td>NaN</td>\n",
       "      <td>NaN</td>\n",
       "      <td>5000.000000</td>\n",
       "      <td>NaN</td>\n",
       "      <td>NaN</td>\n",
       "      <td>2006.000000</td>\n",
       "      <td>NaN</td>\n",
       "      <td>143.000000</td>\n",
       "      <td>...</td>\n",
       "      <td>NaN</td>\n",
       "      <td>9.000000</td>\n",
       "      <td>NaN</td>\n",
       "      <td>NaN</td>\n",
       "      <td>NaN</td>\n",
       "      <td>NaN</td>\n",
       "      <td>0.0</td>\n",
       "      <td>71063.000000</td>\n",
       "      <td>NaN</td>\n",
       "      <td>150000.000000</td>\n",
       "    </tr>\n",
       "    <tr>\n",
       "      <th>max</th>\n",
       "      <td>NaN</td>\n",
       "      <td>NaN</td>\n",
       "      <td>NaN</td>\n",
       "      <td>NaN</td>\n",
       "      <td>16350.000000</td>\n",
       "      <td>NaN</td>\n",
       "      <td>NaN</td>\n",
       "      <td>2016.000000</td>\n",
       "      <td>NaN</td>\n",
       "      <td>17700.000000</td>\n",
       "      <td>...</td>\n",
       "      <td>NaN</td>\n",
       "      <td>12.000000</td>\n",
       "      <td>NaN</td>\n",
       "      <td>NaN</td>\n",
       "      <td>NaN</td>\n",
       "      <td>NaN</td>\n",
       "      <td>0.0</td>\n",
       "      <td>99998.000000</td>\n",
       "      <td>NaN</td>\n",
       "      <td>150000.000000</td>\n",
       "    </tr>\n",
       "  </tbody>\n",
       "</table>\n",
       "<p>11 rows × 21 columns</p>\n",
       "</div>"
      ],
      "text/plain": [
       "               date_crawled      name  seller offer_type         price abtest  \\\n",
       "count                 38264     38264   38264      38264  38264.000000  38264   \n",
       "unique                37218     29616       2          2           NaN      2   \n",
       "top     2016-03-23 18:39:34  BMW_316i  privat    Angebot           NaN   test   \n",
       "freq                      3        73   38263      38263           NaN  19702   \n",
       "mean                    NaN       NaN     NaN        NaN   3593.137388    NaN   \n",
       "std                     NaN       NaN     NaN        NaN   3558.712455    NaN   \n",
       "min                     NaN       NaN     NaN        NaN      0.000000    NaN   \n",
       "25%                     NaN       NaN     NaN        NaN    999.000000    NaN   \n",
       "50%                     NaN       NaN     NaN        NaN   2300.000000    NaN   \n",
       "75%                     NaN       NaN     NaN        NaN   5000.000000    NaN   \n",
       "max                     NaN       NaN     NaN        NaN  16350.000000    NaN   \n",
       "\n",
       "       vehicle_type  registration_year  gearbox       powerPS      ...        \\\n",
       "count         35696       38264.000000    36402  38264.000000      ...         \n",
       "unique            8                NaN        2           NaN      ...         \n",
       "top       limousine                NaN  manuell           NaN      ...         \n",
       "freq          10532                NaN    29450           NaN      ...         \n",
       "mean            NaN        2001.845050      NaN    110.672042      ...         \n",
       "std             NaN           6.103401      NaN    179.441617      ...         \n",
       "min             NaN        1910.000000      NaN      0.000000      ...         \n",
       "25%             NaN        1998.000000      NaN     69.000000      ...         \n",
       "50%             NaN        2002.000000      NaN    105.000000      ...         \n",
       "75%             NaN        2006.000000      NaN    143.000000      ...         \n",
       "max             NaN        2016.000000      NaN  17700.000000      ...         \n",
       "\n",
       "         odometer registration_month  fuel_type       brand unrepaired_damage  \\\n",
       "count       38264       38264.000000      35201       38264             30552   \n",
       "unique          4                NaN          7          40                 2   \n",
       "top     150,000km                NaN     benzin  volkswagen              nein   \n",
       "freq        30306                NaN      23043        8457             26219   \n",
       "mean          NaN           5.744616        NaN         NaN               NaN   \n",
       "std           NaN           3.724984        NaN         NaN               NaN   \n",
       "min           NaN           0.000000        NaN         NaN               NaN   \n",
       "25%           NaN           3.000000        NaN         NaN               NaN   \n",
       "50%           NaN           6.000000        NaN         NaN               NaN   \n",
       "75%           NaN           9.000000        NaN         NaN               NaN   \n",
       "max           NaN          12.000000        NaN         NaN               NaN   \n",
       "\n",
       "                 ad_created nr_of_pictures   postal_code            last_seen  \\\n",
       "count                 38264        38264.0  38264.000000                38264   \n",
       "unique                   66            NaN           NaN                32196   \n",
       "top     2016-04-03 00:00:00            NaN           NaN  2016-04-07 06:17:27   \n",
       "freq                   1484            NaN           NaN                    8   \n",
       "mean                    NaN            0.0  50529.217019                  NaN   \n",
       "std                     NaN            0.0  25631.569680                  NaN   \n",
       "min                     NaN            0.0   1067.000000                  NaN   \n",
       "25%                     NaN            0.0  30165.000000                  NaN   \n",
       "50%                     NaN            0.0  49201.000000                  NaN   \n",
       "75%                     NaN            0.0  71063.000000                  NaN   \n",
       "max                     NaN            0.0  99998.000000                  NaN   \n",
       "\n",
       "          odometer_km  \n",
       "count    38264.000000  \n",
       "unique            NaN  \n",
       "top               NaN  \n",
       "freq              NaN  \n",
       "mean    142240.487142  \n",
       "std      16590.527925  \n",
       "min      90000.000000  \n",
       "25%     150000.000000  \n",
       "50%     150000.000000  \n",
       "75%     150000.000000  \n",
       "max     150000.000000  \n",
       "\n",
       "[11 rows x 21 columns]"
      ]
     },
     "execution_count": 61,
     "metadata": {},
     "output_type": "execute_result"
    }
   ],
   "source": [
    "autos.describe(include = 'all')"
   ]
  },
  {
   "cell_type": "markdown",
   "metadata": {},
   "source": [
    "### Cleaning Data"
   ]
  },
  {
   "cell_type": "markdown",
   "metadata": {},
   "source": [
    "The next block of code will convert the column names from camelcase to snakecase to match Python's preferred format. Additionally, some of the column names will be reworded to be more descriptive. "
   ]
  },
  {
   "cell_type": "code",
   "execution_count": 4,
   "metadata": {
    "collapsed": false
   },
   "outputs": [],
   "source": [
    "autos.rename(columns = {'yearOfRegistration' : 'registration_year', \n",
    "                       'monthOfRegistration' : 'registration_month',\n",
    "                       'notRepairedDamage' : 'unrepaired_damage',\n",
    "                       'dateCreated' : 'ad_created',\n",
    "                       'dateCrawled' : 'date_crawled',\n",
    "                       'offerType': 'offer_type',\n",
    "                       'vehicleType' : 'vehicle_type',\n",
    "                       'fuelType' : 'fuel_type',\n",
    "                       'nrOfPictures' : 'nr_of_pictures',\n",
    "                       'postalCode' : 'postal_code',\n",
    "                       'lastSeen': 'last_seen'},\n",
    "            inplace = True)\n",
    "\n"
   ]
  },
  {
   "cell_type": "markdown",
   "metadata": {},
   "source": [
    "Because seller and offer_type have one value in all but one case, those columns will be dropped. \n",
    "\n",
    "Registration year needs more investigation. The minimum year is 1000 and the maximum is 9999, so there must be errors. Price and odometer appear to be stored as text due to the unit that follows the number, however both should be converted to numeric for analysis. "
   ]
  },
  {
   "cell_type": "code",
   "execution_count": 5,
   "metadata": {
    "collapsed": false
   },
   "outputs": [],
   "source": [
    "autos['price'] = autos['price'].str.replace('$', '').str.replace(',', '').astype('float')"
   ]
  },
  {
   "cell_type": "code",
   "execution_count": 6,
   "metadata": {
    "collapsed": false
   },
   "outputs": [],
   "source": [
    "autos['odometer_km'] = autos['odometer'].str.replace('km', '').str.replace(',' , '').astype('float')"
   ]
  },
  {
   "cell_type": "markdown",
   "metadata": {},
   "source": [
    "Next, any values that look unrealistically high or low will be removed. This collection of functions will assist in describing the data's tendencies"
   ]
  },
  {
   "cell_type": "code",
   "execution_count": 7,
   "metadata": {
    "collapsed": false
   },
   "outputs": [
    {
     "data": {
      "text/plain": [
       "count    5.000000e+04\n",
       "mean     9.840044e+03\n",
       "std      4.811044e+05\n",
       "min      0.000000e+00\n",
       "25%      1.100000e+03\n",
       "50%      2.950000e+03\n",
       "75%      7.200000e+03\n",
       "max      1.000000e+08\n",
       "Name: price, dtype: float64"
      ]
     },
     "execution_count": 7,
     "metadata": {},
     "output_type": "execute_result"
    }
   ],
   "source": [
    "autos['price'].describe()"
   ]
  },
  {
   "cell_type": "code",
   "execution_count": 28,
   "metadata": {
    "collapsed": false
   },
   "outputs": [
    {
     "data": {
      "text/plain": [
       "0.0           1421\n",
       "1.0            156\n",
       "2.0              3\n",
       "3.0              1\n",
       "5.0              2\n",
       "8.0              1\n",
       "9.0              1\n",
       "10.0             7\n",
       "11.0             2\n",
       "12.0             3\n",
       "13.0             2\n",
       "14.0             1\n",
       "15.0             2\n",
       "17.0             3\n",
       "18.0             1\n",
       "20.0             4\n",
       "25.0             5\n",
       "29.0             1\n",
       "30.0             7\n",
       "35.0             1\n",
       "40.0             6\n",
       "45.0             4\n",
       "47.0             1\n",
       "49.0             4\n",
       "50.0            49\n",
       "55.0             2\n",
       "59.0             1\n",
       "60.0             9\n",
       "65.0             5\n",
       "66.0             1\n",
       "              ... \n",
       "151990.0         1\n",
       "155000.0         1\n",
       "163500.0         1\n",
       "163991.0         1\n",
       "169000.0         1\n",
       "169999.0         1\n",
       "175000.0         1\n",
       "180000.0         1\n",
       "190000.0         1\n",
       "194000.0         1\n",
       "197000.0         1\n",
       "198000.0         1\n",
       "220000.0         1\n",
       "250000.0         1\n",
       "259000.0         1\n",
       "265000.0         1\n",
       "295000.0         1\n",
       "299000.0         1\n",
       "345000.0         1\n",
       "350000.0         1\n",
       "999990.0         1\n",
       "999999.0         2\n",
       "1234566.0        1\n",
       "1300000.0        1\n",
       "3890000.0        1\n",
       "10000000.0       1\n",
       "11111111.0       2\n",
       "12345678.0       3\n",
       "27322222.0       1\n",
       "99999999.0       1\n",
       "Name: price, Length: 2357, dtype: int64"
      ]
     },
     "execution_count": 28,
     "metadata": {},
     "output_type": "execute_result"
    }
   ],
   "source": [
    "autos['price'].value_counts().sort_index(ascending = True)"
   ]
  },
  {
   "cell_type": "code",
   "execution_count": 30,
   "metadata": {
    "collapsed": false
   },
   "outputs": [
    {
     "data": {
      "text/plain": [
       "count     50000.000000\n",
       "mean     125732.700000\n",
       "std       40042.211706\n",
       "min        5000.000000\n",
       "25%      125000.000000\n",
       "50%      150000.000000\n",
       "75%      150000.000000\n",
       "max      150000.000000\n",
       "Name: odometer_km, dtype: float64"
      ]
     },
     "execution_count": 30,
     "metadata": {},
     "output_type": "execute_result"
    }
   ],
   "source": [
    "autos['odometer_km'].describe()"
   ]
  },
  {
   "cell_type": "code",
   "execution_count": 31,
   "metadata": {
    "collapsed": false
   },
   "outputs": [
    {
     "data": {
      "text/plain": [
       "5000.0        967\n",
       "10000.0       264\n",
       "20000.0       784\n",
       "30000.0       789\n",
       "40000.0       819\n",
       "50000.0      1027\n",
       "60000.0      1164\n",
       "70000.0      1230\n",
       "80000.0      1436\n",
       "90000.0      1757\n",
       "100000.0     2169\n",
       "125000.0     5170\n",
       "150000.0    32424\n",
       "Name: odometer_km, dtype: int64"
      ]
     },
     "execution_count": 31,
     "metadata": {},
     "output_type": "execute_result"
    }
   ],
   "source": [
    "autos['odometer_km'].value_counts().sort_index(ascending = True)"
   ]
  },
  {
   "cell_type": "markdown",
   "metadata": {},
   "source": [
    "The Interquartile Rule wil be used to mathmatically find any outliers. The IQR states that any number greater or less than (1.5 * the interquartile range) is a suspected outlier. \n",
    "\n",
    "This function will help find 1.5 * the interquartile range"
   ]
  },
  {
   "cell_type": "code",
   "execution_count": 8,
   "metadata": {
    "collapsed": false
   },
   "outputs": [],
   "source": [
    "def iqr (Q1, Q3):\n",
    "    number = 1.5 * (Q3 - Q1)\n",
    "    print('Any number greater than', number + Q3, \n",
    "          'could be an outlier and can be removed and any number less than', \n",
    "         Q1 - number, 'could be an outlier and can be removed')"
   ]
  },
  {
   "cell_type": "markdown",
   "metadata": {},
   "source": [
    "Based on the data found using the method series.describe(), for the price column:"
   ]
  },
  {
   "cell_type": "code",
   "execution_count": 9,
   "metadata": {
    "collapsed": false
   },
   "outputs": [
    {
     "name": "stdout",
     "output_type": "stream",
     "text": [
      "Any number greater than 16350.0 could be an outlier and can be removed and any number less than -8050.0 could be an outlier and can be removed\n"
     ]
    }
   ],
   "source": [
    "iqr(1100.0, 7200.0)"
   ]
  },
  {
   "cell_type": "code",
   "execution_count": 10,
   "metadata": {
    "collapsed": false
   },
   "outputs": [],
   "source": [
    "autos = autos[autos['price'].between(-8050.0, 16350)]"
   ]
  },
  {
   "cell_type": "markdown",
   "metadata": {},
   "source": [
    "And for the odometer column:"
   ]
  },
  {
   "cell_type": "code",
   "execution_count": 11,
   "metadata": {
    "collapsed": false
   },
   "outputs": [
    {
     "name": "stdout",
     "output_type": "stream",
     "text": [
      "Any number greater than 187500.0 could be an outlier and can be removed and any number less than 87500.0 could be an outlier and can be removed\n"
     ]
    }
   ],
   "source": [
    "iqr(125000, 150000)"
   ]
  },
  {
   "cell_type": "code",
   "execution_count": 8,
   "metadata": {
    "collapsed": true
   },
   "outputs": [],
   "source": [
    "autos = autos[autos['odometer_km'].between(87500, 187500)]"
   ]
  },
  {
   "cell_type": "code",
   "execution_count": 9,
   "metadata": {
    "collapsed": false
   },
   "outputs": [
    {
     "data": {
      "text/plain": [
       "2016-03-05    0.024639\n",
       "2016-03-06    0.014090\n",
       "2016-03-07    0.036199\n",
       "2016-03-08    0.034128\n",
       "2016-03-09    0.033911\n",
       "2016-03-10    0.032177\n",
       "2016-03-11    0.032201\n",
       "2016-03-12    0.037042\n",
       "2016-03-13    0.014981\n",
       "2016-03-14    0.036850\n",
       "2016-03-15    0.033960\n",
       "2016-03-16    0.029528\n",
       "2016-03-17    0.031961\n",
       "2016-03-18    0.013247\n",
       "2016-03-19    0.033863\n",
       "2016-03-20    0.037620\n",
       "2016-03-21    0.037572\n",
       "2016-03-22    0.032828\n",
       "2016-03-23    0.032539\n",
       "2016-03-24    0.028926\n",
       "2016-03-25    0.032394\n",
       "2016-03-26    0.032322\n",
       "2016-03-27    0.031214\n",
       "2016-03-28    0.034706\n",
       "2016-03-29    0.033839\n",
       "2016-03-30    0.033815\n",
       "2016-03-31    0.032009\n",
       "2016-04-01    0.033454\n",
       "2016-04-02    0.034995\n",
       "2016-04-03    0.038102\n",
       "2016-04-04    0.036729\n",
       "2016-04-05    0.013512\n",
       "2016-04-06    0.003444\n",
       "2016-04-07    0.001204\n",
       "Name: date_crawled, dtype: float64"
      ]
     },
     "execution_count": 9,
     "metadata": {},
     "output_type": "execute_result"
    }
   ],
   "source": [
    "autos['date_crawled'].str[:10].value_counts(normalize = True, dropna = False).sort_index(ascending = True)"
   ]
  },
  {
   "cell_type": "markdown",
   "metadata": {},
   "source": [
    "Using value counts, we can tell that the crawl dates, or when the data was scraped from the website, are pretty evenly distributed between March 3, 2016 and April 7, 2016."
   ]
  },
  {
   "cell_type": "code",
   "execution_count": 10,
   "metadata": {
    "collapsed": false
   },
   "outputs": [
    {
     "data": {
      "text/plain": [
       "2015-12-05    0.000024\n",
       "2015-12-30    0.000024\n",
       "2016-01-03    0.000024\n",
       "2016-01-07    0.000024\n",
       "2016-01-10    0.000048\n",
       "2016-01-13    0.000024\n",
       "2016-01-14    0.000024\n",
       "2016-01-16    0.000024\n",
       "2016-01-22    0.000024\n",
       "2016-01-27    0.000048\n",
       "2016-01-29    0.000024\n",
       "2016-02-01    0.000024\n",
       "2016-02-02    0.000048\n",
       "2016-02-05    0.000048\n",
       "2016-02-08    0.000024\n",
       "2016-02-09    0.000024\n",
       "2016-02-11    0.000024\n",
       "2016-02-12    0.000072\n",
       "2016-02-14    0.000024\n",
       "2016-02-16    0.000024\n",
       "2016-02-18    0.000048\n",
       "2016-02-19    0.000024\n",
       "2016-02-20    0.000048\n",
       "2016-02-21    0.000072\n",
       "2016-02-22    0.000024\n",
       "2016-02-23    0.000024\n",
       "2016-02-24    0.000048\n",
       "2016-02-25    0.000048\n",
       "2016-02-26    0.000024\n",
       "2016-02-27    0.000120\n",
       "                ...   \n",
       "2016-03-09    0.033719\n",
       "2016-03-10    0.032009\n",
       "2016-03-11    0.032539\n",
       "2016-03-12    0.036850\n",
       "2016-03-13    0.016498\n",
       "2016-03-14    0.035236\n",
       "2016-03-15    0.033743\n",
       "2016-03-16    0.029986\n",
       "2016-03-17    0.031696\n",
       "2016-03-18    0.013945\n",
       "2016-03-19    0.032876\n",
       "2016-03-20    0.037596\n",
       "2016-03-21    0.037717\n",
       "2016-03-22    0.032876\n",
       "2016-03-23    0.032370\n",
       "2016-03-24    0.028829\n",
       "2016-03-25    0.032563\n",
       "2016-03-26    0.032274\n",
       "2016-03-27    0.031142\n",
       "2016-03-28    0.034658\n",
       "2016-03-29    0.033984\n",
       "2016-03-30    0.033598\n",
       "2016-03-31    0.032009\n",
       "2016-04-01    0.033526\n",
       "2016-04-02    0.034586\n",
       "2016-04-03    0.038367\n",
       "2016-04-04    0.037283\n",
       "2016-04-05    0.012115\n",
       "2016-04-06    0.003468\n",
       "2016-04-07    0.001108\n",
       "Name: ad_created, Length: 70, dtype: float64"
      ]
     },
     "execution_count": 10,
     "metadata": {},
     "output_type": "execute_result"
    }
   ],
   "source": [
    "autos['ad_created'].str[:10].value_counts(normalize = True, dropna = False).sort_index(ascending = True)"
   ]
  },
  {
   "cell_type": "markdown",
   "metadata": {},
   "source": [
    "The dates an ad was posted varies considerably more. The oldest posting is from December, 2015 while the most recent is from April. "
   ]
  },
  {
   "cell_type": "code",
   "execution_count": 11,
   "metadata": {
    "collapsed": false
   },
   "outputs": [
    {
     "data": {
      "text/plain": [
       "2016-03-05    0.001084\n",
       "2016-03-06    0.004697\n",
       "2016-03-07    0.005829\n",
       "2016-03-08    0.008333\n",
       "2016-03-09    0.010356\n",
       "2016-03-10    0.011079\n",
       "2016-03-11    0.013463\n",
       "2016-03-12    0.025072\n",
       "2016-03-13    0.009369\n",
       "2016-03-14    0.013223\n",
       "2016-03-15    0.016305\n",
       "2016-03-16    0.017100\n",
       "2016-03-17    0.029359\n",
       "2016-03-18    0.007346\n",
       "2016-03-19    0.016522\n",
       "2016-03-20    0.021821\n",
       "2016-03-21    0.021580\n",
       "2016-03-22    0.022110\n",
       "2016-03-23    0.019147\n",
       "2016-03-24    0.020520\n",
       "2016-03-25    0.020087\n",
       "2016-03-26    0.017389\n",
       "2016-03-27    0.016618\n",
       "2016-03-28    0.021821\n",
       "2016-03-29    0.022856\n",
       "2016-03-30    0.024880\n",
       "2016-03-31    0.024422\n",
       "2016-04-01    0.023988\n",
       "2016-04-02    0.025530\n",
       "2016-04-03    0.025506\n",
       "2016-04-04    0.024904\n",
       "2016-04-05    0.119701\n",
       "2016-04-06    0.212620\n",
       "2016-04-07    0.125361\n",
       "Name: last_seen, dtype: float64"
      ]
     },
     "execution_count": 11,
     "metadata": {},
     "output_type": "execute_result"
    }
   ],
   "source": [
    "autos['last_seen'].str[:10].value_counts(normalize = True, dropna = False).sort_index(ascending = True)"
   ]
  },
  {
   "cell_type": "markdown",
   "metadata": {},
   "source": [
    "The last seen column has more dates in common. A pluarlity of postings had been viewed in the most recent days before the website was scraped. A very small number of postings have not been viewed since March, a month before the data was scraped"
   ]
  },
  {
   "cell_type": "code",
   "execution_count": 12,
   "metadata": {
    "collapsed": false
   },
   "outputs": [
    {
     "data": {
      "text/plain": [
       "count    41520.000000\n",
       "mean      2002.820111\n",
       "std         35.023528\n",
       "min       1910.000000\n",
       "25%       1999.000000\n",
       "50%       2003.000000\n",
       "75%       2007.000000\n",
       "max       9000.000000\n",
       "Name: registration_year, dtype: float64"
      ]
     },
     "execution_count": 12,
     "metadata": {},
     "output_type": "execute_result"
    }
   ],
   "source": [
    "autos['registration_year'].describe()"
   ]
  },
  {
   "cell_type": "markdown",
   "metadata": {},
   "source": [
    "Based on the range of the registration year, there might be an error in the data. Any car with a registration year above 2016 is definitely inaccurate, but it is more difficult to determine the minimum year. For this analysis, the cutoff will be 1900. The value counts show how many cars will be removed."
   ]
  },
  {
   "cell_type": "code",
   "execution_count": 13,
   "metadata": {
    "collapsed": false
   },
   "outputs": [
    {
     "data": {
      "text/plain": [
       "1910    0.000048\n",
       "1934    0.000024\n",
       "1937    0.000024\n",
       "1943    0.000024\n",
       "1950    0.000024\n",
       "1953    0.000024\n",
       "1954    0.000048\n",
       "1955    0.000024\n",
       "1956    0.000048\n",
       "1957    0.000024\n",
       "1958    0.000048\n",
       "1959    0.000072\n",
       "1960    0.000409\n",
       "1961    0.000072\n",
       "1962    0.000024\n",
       "1963    0.000120\n",
       "1964    0.000072\n",
       "1965    0.000217\n",
       "1966    0.000337\n",
       "1967    0.000313\n",
       "1968    0.000313\n",
       "1969    0.000217\n",
       "1970    0.000409\n",
       "1971    0.000169\n",
       "1972    0.000506\n",
       "1973    0.000458\n",
       "1974    0.000313\n",
       "1975    0.000217\n",
       "1976    0.000434\n",
       "1977    0.000361\n",
       "          ...   \n",
       "1991    0.007852\n",
       "1992    0.008526\n",
       "1993    0.010019\n",
       "1994    0.014716\n",
       "1995    0.028829\n",
       "1996    0.032852\n",
       "1997    0.046893\n",
       "1998    0.055877\n",
       "1999    0.068882\n",
       "2000    0.075193\n",
       "2001    0.061826\n",
       "2002    0.057755\n",
       "2003    0.062042\n",
       "2004    0.061777\n",
       "2005    0.066113\n",
       "2006    0.058550\n",
       "2007    0.048459\n",
       "2008    0.043931\n",
       "2009    0.035405\n",
       "2010    0.023555\n",
       "2011    0.018618\n",
       "2012    0.009345\n",
       "2013    0.002408\n",
       "2014    0.000361\n",
       "2015    0.000120\n",
       "2016    0.027794\n",
       "2017    0.031142\n",
       "2018    0.010332\n",
       "2019    0.000048\n",
       "9000    0.000024\n",
       "Name: registration_year, Length: 73, dtype: float64"
      ]
     },
     "execution_count": 13,
     "metadata": {},
     "output_type": "execute_result"
    }
   ],
   "source": [
    "autos['registration_year'].value_counts(normalize = True).sort_index(ascending = True)"
   ]
  },
  {
   "cell_type": "code",
   "execution_count": 14,
   "metadata": {
    "collapsed": true
   },
   "outputs": [],
   "source": [
    "autos = autos[autos['registration_year'].between(1900, 2016)]"
   ]
  },
  {
   "cell_type": "markdown",
   "metadata": {},
   "source": [
    "### Analyzing Data"
   ]
  },
  {
   "cell_type": "code",
   "execution_count": 16,
   "metadata": {
    "collapsed": false,
    "scrolled": true
   },
   "outputs": [
    {
     "data": {
      "text/plain": [
       "volkswagen        8895\n",
       "opel              4726\n",
       "bmw               4430\n",
       "mercedes_benz     3725\n",
       "audi              3337\n",
       "ford              2826\n",
       "renault           2076\n",
       "peugeot           1233\n",
       "fiat              1012\n",
       "seat               753\n",
       "mazda              630\n",
       "nissan             588\n",
       "skoda              556\n",
       "citroen            550\n",
       "toyota             463\n",
       "smart              447\n",
       "volvo              407\n",
       "mitsubishi         339\n",
       "hyundai            322\n",
       "honda              320\n",
       "alfa_romeo         287\n",
       "sonstige_autos     258\n",
       "kia                249\n",
       "mini               219\n",
       "suzuki             207\n",
       "chrysler           160\n",
       "chevrolet          160\n",
       "daihatsu           100\n",
       "subaru              85\n",
       "jeep                84\n",
       "saab                76\n",
       "porsche             70\n",
       "daewoo              63\n",
       "dacia               62\n",
       "rover               62\n",
       "land_rover          54\n",
       "jaguar              53\n",
       "lancia              47\n",
       "trabant             18\n",
       "lada                15\n",
       "Name: brand, dtype: int64"
      ]
     },
     "execution_count": 16,
     "metadata": {},
     "output_type": "execute_result"
    }
   ],
   "source": [
    "autos['brand'].value_counts()"
   ]
  },
  {
   "cell_type": "markdown",
   "metadata": {},
   "source": [
    "The most common brand is Volkswagen, followed by Opel and 38 other unique brands. The next chunk of code will display the mean price of cars by brand"
   ]
  },
  {
   "cell_type": "code",
   "execution_count": 26,
   "metadata": {
    "collapsed": false
   },
   "outputs": [
    {
     "name": "stdout",
     "output_type": "stream",
     "text": [
      "{'bmw': 5294.361625282167, 'lada': 1832.4666666666667, 'hyundai': 3590.7795031055903, 'volvo': 3572.5921375921375, 'chevrolet': 4441.3375, 'citroen': 2787.5854545454545, 'nissan': 3025.9608843537417, 'rover': 1113.274193548387, 'mercedes_benz': 4923.370738255034, 'alfa_romeo': 2971.9303135888504, 'skoda': 4729.591726618705, 'peugeot': 2341.384428223844, 'sonstige_autos': 4483.410852713178, 'kia': 3504.626506024096, 'porsche': 9654.971428571429, 'mini': 6704.913242009133, 'lancia': 1793.6170212765958, 'seat': 2878.7317397078355, 'jeep': 6848.75, 'dacia': 3851.1129032258063, 'jaguar': 5628.264150943396, 'chrysler': 2744.2, 'subaru': 2724.0, 'audi': 5176.009889121966, 'ford': 2392.511677282378, 'opel': 2160.003173931443, 'honda': 2711.159375, 'smart': 2443.4854586129754, 'trabant': 1052.7222222222222, 'volkswagen': 3557.2947723440134, 'land_rover': 6315.2962962962965, 'mitsubishi': 2324.238938053097, 'suzuki': 2937.6280193236717, 'daewoo': 973.8095238095239, 'mazda': 2785.6746031746034, 'toyota': 3907.047516198704, 'saab': 2810.4868421052633, 'fiat': 1906.3418972332015, 'daihatsu': 1367.01, 'renault': 1742.8015414258189}\n"
     ]
    }
   ],
   "source": [
    "mean_price_brand = {}\n",
    "\n",
    "for brand in autos['brand'].unique():\n",
    "    selected_rows = autos[autos[\"brand\"] == brand]\n",
    "    mean_rows = selected_rows['price'].mean()\n",
    "    mean_price_brand[brand] = mean_rows\n",
    "\n",
    "print(mean_price_brand)"
   ]
  },
  {
   "cell_type": "markdown",
   "metadata": {},
   "source": [
    "Average milage for each brand can be calculated using the same method"
   ]
  },
  {
   "cell_type": "code",
   "execution_count": 28,
   "metadata": {
    "collapsed": false
   },
   "outputs": [],
   "source": [
    "mean_milage_brand = {}\n",
    "\n",
    "for brand in autos['brand'].unique():\n",
    "    selected_rows = autos[autos[\"brand\"] == brand]\n",
    "    mean_rows = selected_rows['odometer_km'].mean()\n",
    "    mean_milage_brand[brand] = mean_rows"
   ]
  },
  {
   "cell_type": "markdown",
   "metadata": {},
   "source": [
    "In order to analyze the aggregate data in a clean way, the dictionaries will be converted to series objects using the series constructor"
   ]
  },
  {
   "cell_type": "code",
   "execution_count": 31,
   "metadata": {
    "collapsed": false
   },
   "outputs": [
    {
     "name": "stdout",
     "output_type": "stream",
     "text": [
      "alfa_romeo        2971.930314\n",
      "audi              5176.009889\n",
      "bmw               5294.361625\n",
      "chevrolet         4441.337500\n",
      "chrysler          2744.200000\n",
      "citroen           2787.585455\n",
      "dacia             3851.112903\n",
      "daewoo             973.809524\n",
      "daihatsu          1367.010000\n",
      "fiat              1906.341897\n",
      "ford              2392.511677\n",
      "honda             2711.159375\n",
      "hyundai           3590.779503\n",
      "jaguar            5628.264151\n",
      "jeep              6848.750000\n",
      "kia               3504.626506\n",
      "lada              1832.466667\n",
      "lancia            1793.617021\n",
      "land_rover        6315.296296\n",
      "mazda             2785.674603\n",
      "mercedes_benz     4923.370738\n",
      "mini              6704.913242\n",
      "mitsubishi        2324.238938\n",
      "nissan            3025.960884\n",
      "opel              2160.003174\n",
      "peugeot           2341.384428\n",
      "porsche           9654.971429\n",
      "renault           1742.801541\n",
      "rover             1113.274194\n",
      "saab              2810.486842\n",
      "seat              2878.731740\n",
      "skoda             4729.591727\n",
      "smart             2443.485459\n",
      "sonstige_autos    4483.410853\n",
      "subaru            2724.000000\n",
      "suzuki            2937.628019\n",
      "toyota            3907.047516\n",
      "trabant           1052.722222\n",
      "volkswagen        3557.294772\n",
      "volvo             3572.592138\n",
      "dtype: float64\n"
     ]
    }
   ],
   "source": [
    "brand_price_series = pd.Series(mean_price_brand)\n",
    "print(brand_price_series)"
   ]
  },
  {
   "cell_type": "code",
   "execution_count": 32,
   "metadata": {
    "collapsed": false
   },
   "outputs": [
    {
     "name": "stdout",
     "output_type": "stream",
     "text": [
      "alfa_romeo        142456.445993\n",
      "audi              145981.420438\n",
      "bmw               144900.677201\n",
      "chevrolet         134656.250000\n",
      "chrysler          143625.000000\n",
      "citroen           137845.454545\n",
      "dacia             129193.548387\n",
      "daewoo            137063.492063\n",
      "daihatsu          134900.000000\n",
      "fiat              137060.276680\n",
      "ford              140737.791932\n",
      "honda             140687.500000\n",
      "hyundai           135155.279503\n",
      "jaguar            141415.094340\n",
      "jeep              145297.619048\n",
      "kia               138273.092369\n",
      "lada              117333.333333\n",
      "lancia            137127.659574\n",
      "land_rover        147037.037037\n",
      "mazda             140944.444444\n",
      "mercedes_benz     145045.637584\n",
      "mini              125525.114155\n",
      "mitsubishi        141681.415929\n",
      "nissan            137857.142857\n",
      "opel              142155.099450\n",
      "peugeot           140458.231955\n",
      "porsche           137285.714286\n",
      "renault           141026.011561\n",
      "rover             144354.838710\n",
      "saab              148552.631579\n",
      "seat              139853.917663\n",
      "skoda             136780.575540\n",
      "smart             127975.391499\n",
      "sonstige_autos    136589.147287\n",
      "subaru            143588.235294\n",
      "suzuki            132826.086957\n",
      "toyota            136954.643629\n",
      "trabant           120555.555556\n",
      "volkswagen        143744.238336\n",
      "volvo             146670.761671\n",
      "dtype: float64\n"
     ]
    }
   ],
   "source": [
    "brand_milage = pd.Series(mean_milage_brand)\n",
    "print(brand_milage)"
   ]
  },
  {
   "cell_type": "markdown",
   "metadata": {},
   "source": [
    "### Analysis"
   ]
  },
  {
   "cell_type": "markdown",
   "metadata": {},
   "source": [
    "Are cars with damage cheaper than their don-damaged counterparts? "
   ]
  },
  {
   "cell_type": "markdown",
   "metadata": {},
   "source": [
    "Describe helps understand the breakdown of the data"
   ]
  },
  {
   "cell_type": "code",
   "execution_count": 39,
   "metadata": {
    "collapsed": false
   },
   "outputs": [
    {
     "data": {
      "text/plain": [
       "count     31530\n",
       "unique        2\n",
       "top        nein\n",
       "freq      27054\n",
       "Name: unrepaired_damage, dtype: object"
      ]
     },
     "execution_count": 39,
     "metadata": {},
     "output_type": "execute_result"
    }
   ],
   "source": [
    "autos['unrepaired_damage'].describe()"
   ]
  },
  {
   "cell_type": "markdown",
   "metadata": {},
   "source": [
    "Descriptive statistics will help answer the question after filtering (using boolian indexing) for damaged or not"
   ]
  },
  {
   "cell_type": "code",
   "execution_count": 40,
   "metadata": {
    "collapsed": true
   },
   "outputs": [],
   "source": [
    "damage_bool = autos['unrepaired_damage'] == 'ja'"
   ]
  },
  {
   "cell_type": "code",
   "execution_count": 49,
   "metadata": {
    "collapsed": false
   },
   "outputs": [
    {
     "name": "stdout",
     "output_type": "stream",
     "text": [
      "price                   1753.422475\n",
      "registration_year       2001.288651\n",
      "powerPS                  105.908847\n",
      "registration_month         5.374665\n",
      "nr_of_pictures             0.000000\n",
      "postal_code            50548.824397\n",
      "odometer_km           144292.895442\n",
      "dtype: float64\n"
     ]
    }
   ],
   "source": [
    "mean_price_damage = autos[damage_bool].mean()\n",
    "print(mean_price_damage)"
   ]
  },
  {
   "cell_type": "code",
   "execution_count": 17,
   "metadata": {
    "collapsed": false
   },
   "outputs": [
    {
     "data": {
      "text/plain": [
       "unrepaired_damage\n",
       "ja      2091.267677\n",
       "nein    6143.129344\n",
       "Name: price, dtype: float64"
      ]
     },
     "execution_count": 17,
     "metadata": {},
     "output_type": "execute_result"
    }
   ],
   "source": [
    "df_by_damage = autos.groupby(\"unrepaired_damage\")\n",
    "df_by_damage[\"price\"].mean()"
   ]
  },
  {
   "cell_type": "markdown",
   "metadata": {
    "collapsed": true
   },
   "source": [
    "On average, cars without damage are listed for a higher price"
   ]
  }
 ],
 "metadata": {
  "kernelspec": {
   "display_name": "Python 3",
   "language": "python",
   "name": "python3"
  },
  "language_info": {
   "codemirror_mode": {
    "name": "ipython",
    "version": 3
   },
   "file_extension": ".py",
   "mimetype": "text/x-python",
   "name": "python",
   "nbconvert_exporter": "python",
   "pygments_lexer": "ipython3",
   "version": "3.4.3"
  }
 },
 "nbformat": 4,
 "nbformat_minor": 2
}
